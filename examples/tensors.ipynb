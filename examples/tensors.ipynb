{
 "cells": [
  {
   "cell_type": "markdown",
   "metadata": {},
   "source": [
    "## NumPy example"
   ]
  },
  {
   "cell_type": "code",
   "execution_count": 1,
   "metadata": {},
   "outputs": [],
   "source": [
    "import numpy as np\n",
    "import math"
   ]
  },
  {
   "cell_type": "markdown",
   "metadata": {},
   "source": [
    "First we will create random input and output data"
   ]
  },
  {
   "cell_type": "code",
   "execution_count": 2,
   "metadata": {},
   "outputs": [],
   "source": [
    "x = np.linspace(-math.pi, math.pi, 2000)\n",
    "y = np.sin(x)"
   ]
  },
  {
   "cell_type": "markdown",
   "metadata": {},
   "source": [
    "Next we will randomly initialize the weights"
   ]
  },
  {
   "cell_type": "code",
   "execution_count": 3,
   "metadata": {},
   "outputs": [],
   "source": [
    "a = np.random.randn()\n",
    "b = np.random.randn()\n",
    "c = np.random.randn()\n",
    "d = np.random.randn()"
   ]
  },
  {
   "cell_type": "code",
   "execution_count": 4,
   "metadata": {},
   "outputs": [
    {
     "name": "stdout",
     "output_type": "stream",
     "text": [
      "99 1214.3046676345257\n",
      "199 849.7868867068299\n",
      "299 595.9331464666743\n",
      "399 419.002418144746\n",
      "499 295.5885873057413\n",
      "599 209.4391905945169\n",
      "699 149.2587339025383\n",
      "799 107.18988591315106\n",
      "899 77.7622848048099\n",
      "999 57.16426005119314\n",
      "1099 42.73778086765044\n",
      "1199 32.627876845590656\n",
      "1299 25.539060355945093\n",
      "1399 20.565940975049653\n",
      "1499 17.07533166660241\n",
      "1599 14.624125102223253\n",
      "1699 12.902041011743524\n",
      "1799 11.691681443284686\n",
      "1899 10.84064083546196\n",
      "1999 10.242018972827665\n",
      "Result: y = -0.03851693340263842 + 0.8469848262436391 x + 0.006644811936493448 x^2 + -0.09194268060265268 x^3\n"
     ]
    }
   ],
   "source": [
    "learning_rate = 1e-6\n",
    "for t in range(2000):\n",
    "    # forward pass, compute the predicted y\n",
    "    # y = a + b x + c x^2 + d x^3\n",
    "    y_pred = a + (b * x) + (c * x**2) + (d * x**3)\n",
    "\n",
    "    # compute and print loss\n",
    "    loss = np.square(y_pred - y).sum()\n",
    "    if t % 100 == 99:\n",
    "        print(t, loss)\n",
    "\n",
    "    # backprop to compute gradients of a, b, c, d w.r.t loss\n",
    "    grad_y_pred = 2.0 * (y_pred - y)\n",
    "    grad_a = grad_y_pred.sum()\n",
    "    grad_b = (grad_y_pred * x).sum()\n",
    "    grad_c = (grad_y_pred * x**2).sum()\n",
    "    grad_d = (grad_y_pred * x**3).sum()\n",
    "\n",
    "    # update the weights\n",
    "    a -= learning_rate * grad_a\n",
    "    b -= learning_rate * grad_b\n",
    "    c -= learning_rate * grad_c \n",
    "    d -= learning_rate * grad_d\n",
    "\n",
    "print(f'Result: y = {a} + {b} x + {c} x^2 + {d} x^3')"
   ]
  },
  {
   "cell_type": "markdown",
   "metadata": {},
   "source": [
    "# PyTorch Tensors\n",
    "---\n",
    "a Tensor is an n-dimensional array, and PyTorch provides many functions for operating on these Tensors. Behind the scenes, Tensors can keep track of a computational graph and gradients, but they’re also useful as a generic tool for scientific computing."
   ]
  },
  {
   "cell_type": "code",
   "execution_count": 5,
   "metadata": {},
   "outputs": [
    {
     "name": "stdout",
     "output_type": "stream",
     "text": [
      "99 10471.7880859375\n",
      "199 6942.3837890625\n",
      "299 4604.1982421875\n",
      "399 3054.98583984375\n",
      "499 2028.384765625\n",
      "599 1347.99853515625\n",
      "699 896.9992065429688\n",
      "799 598.0015258789062\n",
      "899 399.74151611328125\n",
      "999 268.25433349609375\n",
      "1099 181.03408813476562\n",
      "1199 123.16554260253906\n",
      "1299 84.76253509521484\n",
      "1399 59.2713737487793\n",
      "1499 42.346622467041016\n",
      "1599 31.106372833251953\n",
      "1699 23.6392822265625\n",
      "1799 18.677242279052734\n",
      "1899 15.378902435302734\n",
      "1999 13.185656547546387\n",
      "Result: y = 0.02246849052608013 + 0.7958948612213135 x + -0.0038761894684284925 x^2 + -0.08467558026313782 x^3\n"
     ]
    }
   ],
   "source": [
    "import torch\n",
    "import math\n",
    "\n",
    "dtype = torch.float\n",
    "device = torch.device(\"cpu\")\n",
    "\n",
    "# Create random input and output values\n",
    "x = torch.linspace(-math.pi, math.pi, 2000, device=device, dtype = dtype)\n",
    "y = torch.sin(x)\n",
    "\n",
    "# randomly initialize weights\n",
    "a = torch.randn((), device = device, dtype = dtype)\n",
    "b = torch.randn((), device = device, dtype = dtype)\n",
    "c = torch.randn((), device = device, dtype = dtype)\n",
    "d = torch.randn((), device = device, dtype = dtype)\n",
    "\n",
    "learning_rate = 1e-6\n",
    "for t in range(2000):\n",
    "    y_pred = a + (b * x) + (c * x**2) + (d * x**3)\n",
    "    loss = (y_pred - y).pow(2).sum().item()\n",
    "    if t % 100 == 99:\n",
    "        print(t, loss)\n",
    "\n",
    "    # Backprop to compute gradients of a, b, c, d with respect to loss\n",
    "    grad_y_pred = 2.0 * (y_pred - y)\n",
    "    grad_a = grad_y_pred.sum()\n",
    "    grad_b = (grad_y_pred * x).sum()\n",
    "    grad_c = (grad_y_pred * x**2).sum()\n",
    "    grad_d = (grad_y_pred * x**3).sum()\n",
    "\n",
    "    # Update weights using gradient descent\n",
    "    a -= learning_rate * grad_a\n",
    "    b -= learning_rate * grad_b\n",
    "    c -= learning_rate * grad_c\n",
    "    d -= learning_rate * grad_d\n",
    "\n",
    "print(f'Result: y = {a.item()} + {b.item()} x + {c.item()} x^2 + {d.item()} x^3')"
   ]
  },
  {
   "cell_type": "markdown",
   "metadata": {},
   "source": [
    "# PyTorch nn\n",
    "---\n",
    "In PyTorch, the nn package provides higher-level abstractions over raw computational graphs that are useful for building neural networks.. The nn package defines a set of Modules, which are roughly equivalent to neural network layers. A Module receives input Tensors and computes output Tensors, but may also hold internal state such as Tensors containing learnable parameters. The nn package also defines a set of useful loss functions that are commonly used when training neural networks."
   ]
  },
  {
   "cell_type": "code",
   "execution_count": 6,
   "metadata": {},
   "outputs": [],
   "source": [
    "import torch\n",
    "import math\n",
    "\n",
    "# Create Tensors to hold input and outputs.\n",
    "x = torch.linspace(-math.pi, math.pi, 2000)\n",
    "y = torch.sin(x)\n",
    "\n",
    "# For this example, the output y is a linear function of (x, x^2, x^3), so\n",
    "# we can consider it as a linear layer neural network. Let's prepare the\n",
    "# tensor (x, x^2, x^3).\n",
    "p = torch.tensor([1, 2, 3])\n",
    "xx = x.unsqueeze(-1).pow(p)"
   ]
  },
  {
   "cell_type": "markdown",
   "metadata": {},
   "source": [
    "In the above code, x.unsqueeze(-1) has shape (2000, 1), and p has shape\n",
    "(3,), for this case, broadcasting semantics will apply to obtain a tensor\n",
    "of shape (2000, 3) \n",
    "\n",
    "Use the nn package to define our model as a sequence of layers. nn.Sequential\n",
    "is a Module which contains other Modules, and applies them in sequence to\n",
    "produce its output. The Linear Module computes output from input using a\n",
    "linear function, and holds internal Tensors for its weight and bias.\n",
    "The Flatten layer flatens the output of the linear layer to a 1D tensor,\n",
    "to match the shape of `y`."
   ]
  },
  {
   "cell_type": "code",
   "execution_count": 11,
   "metadata": {},
   "outputs": [
    {
     "name": "stdout",
     "output_type": "stream",
     "text": [
      "99 817.4127197265625\n",
      "199 543.5316772460938\n",
      "299 362.4188232421875\n",
      "399 242.6515655517578\n",
      "499 163.4510955810547\n",
      "599 111.0765380859375\n",
      "699 76.44140625\n",
      "799 53.53745651245117\n",
      "899 38.39120101928711\n",
      "999 28.37488555908203\n",
      "1099 21.751033782958984\n",
      "1199 17.37067222595215\n",
      "1299 14.47387409210205\n",
      "1399 12.558138847351074\n",
      "1499 11.291229248046875\n",
      "1599 10.453353881835938\n",
      "1699 9.899251937866211\n",
      "1799 9.532816886901855\n",
      "1899 9.290472984313965\n",
      "1999 9.13019847869873\n",
      "Result: y = -0.0010115851182490587 + 0.8395671248435974 x + 0.00017451480380259454 x^2 + -0.09088757634162903 x^3\n"
     ]
    }
   ],
   "source": [
    "model = torch.nn.Sequential(\n",
    "    torch.nn.Linear(3, 1),\n",
    "    torch.nn.Flatten(0, 1)\n",
    ")\n",
    "\n",
    "# The nn package also contains definitions of popular loss functions; in this\n",
    "# case we will use Mean Squared Error (MSE) as our loss function.\n",
    "loss_fn = torch.nn.MSELoss(reduction='sum')\n",
    "\n",
    "learning_rate = 1e-6\n",
    "\n",
    "for t in range(2000):\n",
    "    # Forward pass: compute predicted y by passing x to the model. Module objects\n",
    "    # override the __call__ operator so you can call them like functions. When\n",
    "    # doing so you pass a Tensor of input data to the Module and it produces\n",
    "    # a Tensor of output data.\n",
    "    y_pred = model(xx)\n",
    "\n",
    "    # Compute and print loss. We pass Tensors containing the predicted and true\n",
    "    # values of y, and the loss function returns a Tensor containing the\n",
    "    # loss.\n",
    "    loss = loss_fn(y_pred, y)\n",
    "    if t % 100 == 99:\n",
    "        print(t, loss.item())\n",
    "\n",
    "    # Zero the gradients before running the backward pass.\n",
    "    model.zero_grad()\n",
    "\n",
    "    # Backward pass: compute gradient of the loss with respect to all the learnable\n",
    "    # parameters of the model. Internally, the parameters of each Module are stored\n",
    "    # in Tensors with requires_grad=True, so this call will compute gradients for\n",
    "    # all learnable parameters in the model.\n",
    "    loss.backward()\n",
    "\n",
    "    # Update the weights using gradient descent. Each parameter is a Tensor, so\n",
    "    # we can access its gradients like we did before.\n",
    "    with torch.no_grad():\n",
    "        for param in model.parameters():\n",
    "            param -= learning_rate * param.grad\n",
    "        \n",
    "# You can access the first layer of `model` like accessing the first item of a list\n",
    "linear_layer = model[0]\n",
    "\n",
    "# For linear layer, its parameters are stored as `weight` and `bias`.\n",
    "print(f'Result: y = {linear_layer.bias.item()} + {linear_layer.weight[:, 0].item()} x + {linear_layer.weight[:, 1].item()} x^2 + {linear_layer.weight[:, 2].item()} x^3')"
   ]
  },
  {
   "cell_type": "code",
   "execution_count": null,
   "metadata": {},
   "outputs": [],
   "source": []
  }
 ],
 "metadata": {
  "kernelspec": {
   "display_name": "Python 3.9.10 64-bit",
   "language": "python",
   "name": "python3"
  },
  "language_info": {
   "codemirror_mode": {
    "name": "ipython",
    "version": 3
   },
   "file_extension": ".py",
   "mimetype": "text/x-python",
   "name": "python",
   "nbconvert_exporter": "python",
   "pygments_lexer": "ipython3",
   "version": "3.9.10"
  },
  "orig_nbformat": 4,
  "vscode": {
   "interpreter": {
    "hash": "397704579725e15f5c7cb49fe5f0341eb7531c82d19f2c29d197e8b64ab5776b"
   }
  }
 },
 "nbformat": 4,
 "nbformat_minor": 2
}
